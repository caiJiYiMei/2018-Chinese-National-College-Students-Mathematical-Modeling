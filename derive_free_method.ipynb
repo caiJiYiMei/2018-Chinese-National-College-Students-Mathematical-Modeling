{
  "nbformat": 4,
  "nbformat_minor": 0,
  "metadata": {
    "colab": {
      "name": "derive_free_method.ipynb",
      "version": "0.3.2",
      "provenance": [],
      "include_colab_link": true
    },
    "kernelspec": {
      "name": "python3",
      "display_name": "Python 3"
    },
    "accelerator": "GPU"
  },
  "cells": [
    {
      "cell_type": "markdown",
      "metadata": {
        "id": "view-in-github",
        "colab_type": "text"
      },
      "source": [
        "<a href=\"https://colab.research.google.com/github/caiJiYiMei/2018-Chinese-National-College-Students-Mathematical-Modeling/blob/master/derive_free_method.ipynb\" target=\"_parent\"><img src=\"https://colab.research.google.com/assets/colab-badge.svg\" alt=\"Open In Colab\"/></a>"
      ]
    },
    {
      "cell_type": "markdown",
      "metadata": {
        "id": "0xTd0VJ1RdGE",
        "colab_type": "text"
      },
      "source": [
        "#Set up google drive"
      ]
    },
    {
      "cell_type": "code",
      "metadata": {
        "id": "UqRO0V50LETf",
        "colab_type": "code",
        "colab": {}
      },
      "source": [
        "!apt-get install -y -qq software-properties-common python-software-properties module-init-tools\n",
        "!add-apt-repository -y ppa:alessandro-strada/ppa 2>&1 > /dev/null\n",
        "!apt-get update -qq 2>&1 > /dev/null\n",
        "!apt-get -y install -qq google-drive-ocamlfuse fuse\n",
        "from google.colab import auth\n",
        "auth.authenticate_user()\n",
        "from oauth2client.client import GoogleCredentials\n",
        "creds = GoogleCredentials.get_application_default()\n",
        "import getpass\n",
        "!google-drive-ocamlfuse -headless -id={creds.client_id} -secret={creds.client_secret} < /dev/null 2>&1 | grep URL\n",
        "vcode = getpass.getpass()\n",
        "!echo {vcode} | google-drive-ocamlfuse -headless -id={creds.client_id} -secret={creds.client_secret}"
      ],
      "execution_count": 0,
      "outputs": []
    },
    {
      "cell_type": "code",
      "metadata": {
        "id": "uTl33ZZSPMyP",
        "colab_type": "code",
        "colab": {}
      },
      "source": [
        "!mkdir -p drive\n",
        "!google-drive-ocamlfuse drive"
      ],
      "execution_count": 0,
      "outputs": []
    },
    {
      "cell_type": "code",
      "metadata": {
        "id": "ENU2FByWPTPg",
        "colab_type": "code",
        "colab": {
          "base_uri": "https://localhost:8080/",
          "height": 34
        },
        "outputId": "cf62d3bd-bf29-4e64-bf3b-22389de4359b"
      },
      "source": [
        "\n",
        "import keras\n",
        "import tensorflow as tf\n",
        "tf.test.gpu_device_name() "
      ],
      "execution_count": 13,
      "outputs": [
        {
          "output_type": "execute_result",
          "data": {
            "text/plain": [
              "'/device:GPU:0'"
            ]
          },
          "metadata": {
            "tags": []
          },
          "execution_count": 13
        }
      ]
    },
    {
      "cell_type": "markdown",
      "metadata": {
        "id": "t51-JuXpQjS8",
        "colab_type": "text"
      },
      "source": [
        "# One point method"
      ]
    },
    {
      "cell_type": "code",
      "metadata": {
        "id": "1Z0zizoeQ1yG",
        "colab_type": "code",
        "colab": {}
      },
      "source": [
        "import numpy as np\n",
        "import pandas as pd\n"
      ],
      "execution_count": 0,
      "outputs": []
    },
    {
      "cell_type": "markdown",
      "metadata": {
        "id": "Ym6ycmmpSlyp",
        "colab_type": "text"
      },
      "source": [
        " $$\\min\\ \\mathbb{E}\\left[\\sum_{t=0}^{\\infty}\\left(x_{t}^{\\top} Q x_{t}+u_{t}^{\\top} R u_{t}\\right)\\right]$$\n",
        " $$s.t.\\ x_{t+1}=A x_{t}+B u_{t}, \\quad x_{0} \\sim \\mathcal{D}$$"
      ]
    }
  ]
}