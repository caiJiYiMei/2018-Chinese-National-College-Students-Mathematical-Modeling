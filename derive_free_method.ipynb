{
  "nbformat": 4,
  "nbformat_minor": 0,
  "metadata": {
    "colab": {
      "name": "derive_free_method.ipynb",
      "version": "0.3.2",
      "provenance": [],
      "collapsed_sections": [],
      "include_colab_link": true
    },
    "kernelspec": {
      "name": "python3",
      "display_name": "Python 3"
    },
    "accelerator": "GPU"
  },
  "cells": [
    {
      "cell_type": "markdown",
      "metadata": {
        "id": "view-in-github",
        "colab_type": "text"
      },
      "source": [
        "<a href=\"https://colab.research.google.com/github/caiJiYiMei/2018-Chinese-National-College-Students-Mathematical-Modeling/blob/master/derive_free_method.ipynb\" target=\"_parent\"><img src=\"https://colab.research.google.com/assets/colab-badge.svg\" alt=\"Open In Colab\"/></a>"
      ]
    },
    {
      "cell_type": "markdown",
      "metadata": {
        "id": "0xTd0VJ1RdGE",
        "colab_type": "text"
      },
      "source": [
        "#Set up your google drive\n",
        "After these step you can use GPU to accelerate your algorithm."
      ]
    },
    {
      "cell_type": "code",
      "metadata": {
        "id": "UqRO0V50LETf",
        "colab_type": "code",
        "colab": {}
      },
      "source": [
        "!apt-get install -y -qq software-properties-common python-software-properties module-init-tools\n",
        "!add-apt-repository -y ppa:alessandro-strada/ppa 2>&1 > /dev/null\n",
        "!apt-get update -qq 2>&1 > /dev/null\n",
        "!apt-get -y install -qq google-drive-ocamlfuse fuse\n",
        "from google.colab import auth\n",
        "auth.authenticate_user()\n",
        "from oauth2client.client import GoogleCredentials\n",
        "creds = GoogleCredentials.get_application_default()\n",
        "import getpass\n",
        "!google-drive-ocamlfuse -headless -id={creds.client_id} -secret={creds.client_secret} < /dev/null 2>&1 | grep URL\n",
        "vcode = getpass.getpass()\n",
        "!echo {vcode} | google-drive-ocamlfuse -headless -id={creds.client_id} -secret={creds.client_secret}"
      ],
      "execution_count": 0,
      "outputs": []
    },
    {
      "cell_type": "code",
      "metadata": {
        "id": "uTl33ZZSPMyP",
        "colab_type": "code",
        "colab": {}
      },
      "source": [
        "!mkdir -p drive\n",
        "!google-drive-ocamlfuse drive"
      ],
      "execution_count": 0,
      "outputs": []
    },
    {
      "cell_type": "code",
      "metadata": {
        "id": "ENU2FByWPTPg",
        "colab_type": "code",
        "outputId": "cf62d3bd-bf29-4e64-bf3b-22389de4359b",
        "colab": {
          "base_uri": "https://localhost:8080/",
          "height": 34
        }
      },
      "source": [
        "\n",
        "import keras\n",
        "import tensorflow as tf\n",
        "tf.test.gpu_device_name() "
      ],
      "execution_count": 0,
      "outputs": [
        {
          "output_type": "execute_result",
          "data": {
            "text/plain": [
              "'/device:GPU:0'"
            ]
          },
          "metadata": {
            "tags": []
          },
          "execution_count": 13
        }
      ]
    },
    {
      "cell_type": "markdown",
      "metadata": {
        "id": "t51-JuXpQjS8",
        "colab_type": "text"
      },
      "source": [
        "# Three methods to solve LQR control problem\n",
        "###Model based control: LQR"
      ]
    },
    {
      "cell_type": "markdown",
      "metadata": {
        "id": "Ym6ycmmpSlyp",
        "colab_type": "text"
      },
      "source": [
        "\n",
        "\n",
        "*  System model\n",
        "\n",
        "  $$\\min\\ \\mathbb{E}\\left[\\sum_{t=0}^{\\infty}\\left(x_{t}^{\\top} Q x_{t}+u_{t}^{\\top} R u_{t}\\right)\\right]$$\n",
        "   $$s.t.\\ \\ x_{t+1}=A x_{t}+B u_{t}, \\quad x_{0} \\sim \\mathcal{D}$$\n",
        "   where initial state $\\quad x_{0} \\sim \\mathcal{D}$ is assumed to be randomly distributed according to distribution $\\mathcal{D}$ ; the matrices $A \\in R^{d×d}$ and $B ∈ R^{d×k}$ are referred to as system (or transition) matrices; $Q ∈ R^{d×d}$ and $R ∈ R^{k×k}$ are both positive definite matrices that parameterize the quadratic costs. For clarity, this work does not consider a noise disturbance but only a random initial state. \n",
        "   The optimal control input can be written as a linear function in the state:\n",
        "   $$u_{t}=-K^{*} x_{t},\\ \\  K^{*} \\in \\mathbb{R}^{k \\times d}$$\n",
        "   planning can be achieved by solving the Algebraic Riccati Equation (ARE):\n",
        "   $$P=A^{T} P A+Q-A^{T} P B\\left(B^{T} P B+R\\right)^{-1} B^{T} P A$$\n",
        "   $$K^{*}=-\\left(B^{T} P B+R\\right)^{-1} B^{T} P A$$\n",
        "   \\begin{array}{l}{\\text { Simply run the recursion } P_{k+1}=Q+A^{T} P_{k} A-} \\\\ {A^{T} P_{k} B\\left(R+B^{T} P_{k} B\\right)^{-1} B^{T} P_{k} A \\text { where } P_{1}=Q}\\end{array}\n",
        "   \n",
        "  Note: When $t$ is much smaller than $N$, the steady-state $P$ can approximately converge and satisfy the ARE. Therefore, when the time $t$ is far from the time end point $N$, the control rate of the LQR can be approximated as a constant feedback of the state $x_t$.\n",
        "\n",
        "*  Cost function (reward)\n",
        "    $$\\mathcal{C}_{\\text { init, } \\gamma}\\left(K ; s_{0}\\right) :=\\sum_{t=0}^{\\infty}\\left(s_{t}^{\\top} Q s_{t}+a_{t}^{\\top} R a_{t}\\right)$$\n",
        "    where we have the noiseless dynamics $s_{t+1} = As_t+Ba_t$ a random variable that denotes some notion of sample and $a_t = −K^*s_t$ for each $t ≥ 0$. While $Cinit,γ(K; s_0)$ is cost, our goal is to minimize the population cost\n",
        "    $$\\mathcal{C}_{\\text { init }, \\gamma}(K) :=\\mathbb{E}_{s_{0} \\sim \\mathcal{D}_{0}}\\left[\\mathcal{C}_{\\text { init }, \\gamma}\\left(K ; s_{0}\\right)\\right]$$\n",
        "    \n",
        "  A policy $K$ is said to stabilize the system $(A,B)$ if we spectral radius of a matrix. We assume throughout have $ρ_{spec}(A − BK) < 1$, where $ρ_{spec}(·)$ denotes the spectral radius of a matrix. \n"
      ]
    },
    {
      "cell_type": "code",
      "metadata": {
        "id": "1Z0zizoeQ1yG",
        "colab_type": "code",
        "outputId": "d7f29139-ce8a-4dac-b810-3e43bfc8ef65",
        "colab": {
          "base_uri": "https://localhost:8080/",
          "height": 155
        }
      },
      "source": [
        "import numpy as np\n",
        "import pandas as pd\n",
        "import math\n",
        "import random\n",
        "\n",
        "'''\n",
        "Calculate the optimal control gain of LQR through A, B, Q, R.\n",
        "All inputs should be numpy object.\n",
        " \n",
        "'''\n",
        "\n",
        "def optimal_lqr_gain(A, B, Q, R):\n",
        "  (k, d) = [A.shape[0], B.shape[0]]\n",
        "  K_star = np.zeros((k, d))\n",
        "  P0 = Q\n",
        "  P1 = Q\n",
        "  error = 1\n",
        "  N = 1\n",
        "  while(error >= 0.000001):\n",
        "    P0 = P1\n",
        "    temp0 = np.dot(A.transpose(), P0)\n",
        "    temp1 = np.dot(B.transpose(), P0)\n",
        "    temp2 = np.dot(temp0, B)\n",
        "    temp3 = np.dot(temp1, A)\n",
        "    temp4 = np.linalg.inv(R + np.dot(temp1, B))\n",
        "    P1 = Q + np.dot(np.dot(A.transpose(), P0), A) - np.dot(np.dot(temp2, temp4), temp3)\n",
        "    error = abs(np.linalg.norm(P0 - P1))\n",
        "  temp5 = np.dot(B.transpose(), P1)\n",
        "  temp6 = np.dot(temp5, A)\n",
        "  temp7 = np.linalg.inv(R + np.dot(temp5, B))\n",
        "  K_star = -np.dot(temp7, temp6)\n",
        "  return -K_star\n",
        "  \n",
        "  \n",
        "'''\n",
        "Calculate optimal control reward based on optimal gain calcualted before and\n",
        "the initial state was sampled uniformly at random from the canonical basis vectors.\n",
        "'''  \n",
        "\n",
        "def aux_lqr_reward(x0, K, A, B, Q, R):\n",
        "  reward0 = 0\n",
        "  reward1 = 0\n",
        "  x1 = x0\n",
        "  error = 1\n",
        "  N = 1\n",
        "  while(error >= 0.0001):\n",
        "    reward0 = reward1\n",
        "    x0 = x1\n",
        "    ut = -np.dot(K, x0)\n",
        "    reward1 = np.dot(np.dot(x0.transpose(), Q), x0) + np.dot(np.dot(ut.transpose(), R), ut) + reward0\n",
        "    x1 = np.dot(A, x0) + np.dot(B, ut)\n",
        "    error = abs(np.linalg.norm(reward1 - reward0))\n",
        "    N = N + 1\n",
        "  return reward1\n",
        "\n",
        "def optimal_lqr_reward(A, B, Q, R):\n",
        "  N = 10000\n",
        "  (k, d) = [A.shape[0], B.shape[0]]\n",
        "  sum_reward = 0\n",
        "  K = optimal_lqr_gain(A, B, Q, R)\n",
        "  for k in range(0, N):\n",
        "    x0 = np.array([[random.randint(0, 100000)/10000 for i in range(d)]]).transpose()\n",
        "    sum_reward = sum_reward + aux_lqr_reward(x0, K, A, B, Q, R)\n",
        "  return sum_reward/N\n",
        "  \n",
        "  \n",
        "'''\n",
        "Test all model-based LQR function\n",
        "'''  \n",
        "\n",
        "def test_opt_gain():\n",
        "  A = np.array([[1, 0, -10],[-1, 1, 0],[0, 0, 1]])\n",
        "  B = np.array([[1, -10, 0], [0, 1, 0], [-1, 0, 1]])\n",
        "  Q = np.array([[2, -1, 0], [-1, 2, -1], [0, -1, 2]])\n",
        "  R = np.array([[5, -3, 0], [-3, 5, -2], [0, -2, 5]])\n",
        "  \n",
        "  #Test optimal control gain function\n",
        "  K = optimal_lqr_gain(A, B, Q, R)\n",
        "  print(\"Optimal LQR gain:\\n\", K)\n",
        "  \n",
        "  #Test axullary reward function without sample initial state.\n",
        "  x0 = np.array([[10,0,1]]).transpose()\n",
        "  reward = aux_lqr_reward(x0, K, A, B, Q, R)\n",
        "  print(\"One reward:\\n\", reward)\n",
        "  \n",
        "  #Test optimal control reward, approximation of infinite LQR problem\n",
        "  opt_reward = optimal_lqr_reward(A, B, Q, R)\n",
        "  print(\"Optimal LQR control reward:\\n\", opt_reward)\n",
        " \n",
        "test_opt_gain()"
      ],
      "execution_count": 0,
      "outputs": [
        {
          "output_type": "stream",
          "text": [
            "Optimal LQR gain:\n",
            " [[-0.16511537  0.12665516 -0.02950491]\n",
            " [-0.17241319  0.07618281  0.91439708]\n",
            " [-0.02399612 -0.02601307  0.85477508]]\n",
            "One reward:\n",
            " [[337.11176604]]\n",
            "Optimal LQR control reward:\n",
            " [[327.02080935]]\n"
          ],
          "name": "stdout"
        }
      ]
    },
    {
      "cell_type": "markdown",
      "metadata": {
        "id": "4hOKJrJKLU-a",
        "colab_type": "text"
      },
      "source": [
        "### Model free method (One point)\n",
        "\n",
        "\n",
        "*   The natural policy gradient:\\\n",
        "      The natural policy gradient (Kakade, 2001) follows the update:\n",
        "      $$\\begin{array}{l}{\\theta \\leftarrow \\theta-\\eta G_{\\theta}^{-1} \\nabla C(\\theta), \\text { where: }} \\\\ {G_{\\theta}=\\mathbb{E}\\left[\\sum_{t=0}^{\\infty} \\nabla \\log \\pi_{\\theta}\\left(u_{t} | x_{t}\\right) \\nabla \\log \\pi_{\\theta}\\left(u_{t} | x_{t}\\right)^{\\top}\\right]}\\end{array}$$\n",
        "      where $G_θ$ is the Fisher information matrix. An important special case is using a linear policy with additive Gaussian noise (Rajeswaran et al., 2017b), i.e.\n",
        "      $$\\pi_{K}(x, u)=\\mathcal{N}\\left(K x, \\sigma^{2} \\mathrm{I}\\right)$$\n",
        "      where $K ∈ R^{k×d}$ and $σ^2$ is the noise variance. Here, the natural policy gradient of $K$ (when $σ$ is considered fixed) takes the form:\n",
        "     $$K \\leftarrow K-\\eta \\nabla C(K) \\Sigma_{K}^{-1}$$\n",
        "      where $\\Sigma_{K}=\\mathbb{E}_{x_{0} \\sim \\mathcal{D}} \\sum_{t=0}^{\\infty} x_{t} x_{t}^{\\top}$\n",
        "\n",
        "\n",
        "\n",
        "*   Zeroth order optimization:\\\n",
        "     It uses only query access to the function values of $f(·)$ at input points $x$ (and without explicit query access to the gradients of $f$). The generic approach can be described as follows: define the perturbed function as\n",
        "      $$f_{\\sigma^{2}}(x)=\\mathbb{E}_{\\varepsilon \\sim \\mathcal{N}\\left(0, \\sigma^{2} I\\right)}[f(x+\\varepsilon)]$$\n",
        "      For small σ, the smooth function is a good approximation to the original function. Due to the Gaussian smoothing, the gradient has the particularly simple functional form\n",
        "      $$\\nabla f_{\\sigma^{2}}(x)=\\frac{1}{\\sigma^{2}} \\mathbb{E}_{\\varepsilon \\sim \\mathcal{N}\\left(0, \\sigma^{2}\\right]}[f(x+\\varepsilon) \\varepsilon]$$\n",
        "      This expression implies a straightforward method to obtain an unbiased estimate of the $∇f_{σ^2}\n",
        "(x)$, through obtaining only the function values $f(x + ε)$ for random $ε$.\n",
        "\n",
        "*   Algorithm of calculating gradient and optimal control gain:\\\n",
        "      Model-Free Policy Gradient (and Natural Policy Gradient) Estimation, given by:\n",
        "      \n",
        "      <img style=\"float: right;\" src=\"https://raw.githubusercontent.com/caiJiYiMei/2018-Chinese-National-College-Students-Mathematical-Modeling/master/1.PNG\" width=\"30%\">\\\n",
        "      Then $K$ can be updated by gradient of cost function through following formular\n",
        "      $$K_{n+1}=K_{n}-\\eta \\widehat{\\nabla C\\left(K_{n}\\right.} )\\ \\ \\  \\text(For\\ policy\\ gradient)$$\n",
        "      $$K_{n+1}=K_{n}-\\eta \\widehat{\\nabla C\\left(K_{n}\\right)} \\widehat{\\Sigma}_{K_{n}}^{-1}\\ \\ \\  \\text(For\\ natrual\\ gradient)$$\n"
      ]
    },
    {
      "cell_type": "code",
      "metadata": {
        "id": "lU5RgtKBPqAM",
        "colab_type": "code",
        "outputId": "33da1170-6062-4c25-ca8c-518d042b8908",
        "colab": {
          "base_uri": "https://localhost:8080/",
          "height": 646
        }
      },
      "source": [
        "import numpy as np\n",
        "import pandas as pd\n",
        "import math\n",
        "import random\n",
        "from scipy.optimize import minimize\n",
        "from scipy import optimize as op\n",
        "import matplotlib.pyplot as plt\n",
        "\n",
        "'''\n",
        "Simulating one trajectory of system, here we use A,B to represent system parameter, in reality, we\n",
        "can not access A, B, but we can get x(t+1). Since this is simulation we just use x(t_1) = A*x(t) + B*u(t) to\n",
        "represent real x(t+1). Moreover, we use the finite horizon problem to approximate the infinite horizion problem.\n",
        "'''\n",
        "def one_trajectory_sim(step_num, x0, K, A, B, Q, R):\n",
        "  x1 = x0 \n",
        "  reward0 = 0\n",
        "  reward1 = 0\n",
        "  sigma0 = np.zeros(np.dot(x0, x0.transpose()).shape)\n",
        "  sigma1 = np.zeros(np.dot(x0, x0.transpose()).shape)\n",
        "  for i in range(step_num):\n",
        "    reward0 = reward1\n",
        "    sigma0  = sigma1\n",
        "    x0 = x1\n",
        "    ut = -np.dot(K, x0)\n",
        "    reward1 = np.dot(np.dot(x0.transpose(), Q), x0) + np.dot(np.dot(ut.transpose(), R), ut) + reward0\n",
        "    sigma1  = np.dot(x0, x0.transpose()) + sigma0\n",
        "    x1 = np.dot(A, x0) + np.dot(B, ut)\n",
        "    \n",
        "    #If cost value is already convergent, then we will not waste computation resource on this trajectory.\n",
        "    #Hence, breaking the loop.\n",
        "    if (abs(np.linalg.norm(x1-x0)) <= 0.001):\n",
        "      #print(\"success converge to steady value at:\", i)\n",
        "      break;\n",
        "  return reward1, sigma1\n",
        "\n",
        "\n",
        "\n",
        "\"\"\"\n",
        "Calculating the gradient of cost function without first order information. Subsequentely, this gradient is used to\n",
        "update control gain K. One should tuning leaning rate carefully so as to get the best result.\n",
        "\"\"\"\n",
        "def cost_gradient(K, m, r, step_num, A, B, Q, R):\n",
        "  (k, d) = [A.shape[0], B.shape[0]]\n",
        "  Cost_sum = 0\n",
        "  Sigma_sum = 0\n",
        "  Ki = K\n",
        "  mean = np.array([0 for i in range(d)])\n",
        "  cov3 = r*r*np.identity(d)\n",
        "  for i in range(m):\n",
        "    #Adding disturbence to K, this value should guarantee stability of cost value.\n",
        "    #Ui = np.zeros((1, k*d)) + r*r/(k*d) + np.random.randint(-1, 1, size = (1, k*d))/(1/r*1000)\n",
        "    #Ui = Ui.reshape(k,d)\n",
        "    Ui = np.random.multivariate_normal(mean,cov3,k)/800\n",
        "    Ki = Ki + Ui\n",
        "    \n",
        "    #Initilize x0, this value should guarantee stability of cost value.\n",
        "    #x0 = np.array([[random.randint(-1000, 1000)/1000 for i in range(d)]]).transpose()\n",
        "    x0 = np.array([[random.choice([4, 5, 6])]])\n",
        "    Cost, Sigma = one_trajectory_sim(step_num, x0, Ki, A, B, Q, R)\n",
        "    Cost_sum = Cost_sum + d/(r*r)*Cost*Ui\n",
        "    Sigma_sum = Sigma_sum + Sigma\n",
        "    \n",
        "  #Updating control gain by its gradient.\n",
        "  gradient =  K - (0.0005*np.dot((Cost_sum/m), np.linalg.inv(Sigma_sum/m))) #Natrual gradient\n",
        "  #gradient = K - 0.00005*(Cost_sum/m)   #Policy gradient\n",
        "  #print(\"Calculated gain:\\n\", gradient)\n",
        "  return gradient\n",
        "\n",
        "\n",
        "\n",
        "\n",
        "\"\"\"\n",
        "Gradient decent method is utilized to achieve the best control gain K. \n",
        "\"\"\"\n",
        "def onePoint_lqr_gain(K, K_star, A, B, Q, R, N):\n",
        "  #Parameter that should be tuned manually\n",
        "  m = 500\n",
        "  r = 0.001\n",
        "  step_num = 500\n",
        "  error = [abs(np.linalg.norm(K_star - K))]\n",
        "  for ss in range(N):\n",
        "    #Display current progress.(progress bar)\n",
        "    if (ss%100 == 0):\n",
        "      print(\"# of excuted iterations:\",  ss)\n",
        "    K = cost_gradient(K, m, r, step_num, A, B, Q, R)\n",
        "    \n",
        "    #Calculating error (K_opt and K_one)\n",
        "    error.append(abs(np.linalg.norm(K_star - K)))\n",
        "    \n",
        "    #Some result may blow up, thus leading to exception of this programe\n",
        "    if (abs(np.linalg.norm(K_star - K)) >= 100):\n",
        "      return K, error\n",
        "    if (np.isnan(K[0,0])):\n",
        "      print(\"Encounter NAN, exist!\")\n",
        "      return K, error\n",
        "  return K, error \n",
        "\n",
        "\n",
        "\n",
        "    \n",
        "\"\"\"\n",
        "Testing the one point gradient method, moreover, comparing it with optimal control gain obtained before.\n",
        "Specifically, error between K_opt and K_one over iteration time is illustrated.\n",
        "\"\"\"\n",
        "def test_opt_gain():\n",
        "#   A = np.array([[1, 0, -10],[-1, 1, 0],[0, 0, 1]])\n",
        "#   B = np.array([[1, -10, 0], [0, 1, 0], [-1, 0, 1]])\n",
        "#   Q = np.array([[2, -1, 0], [-1, 2, -1], [0, -1, 2]])\n",
        "#   R = np.array([[5, -3, 0], [-3, 5, -2], [0, -2, 5]])\n",
        "  \n",
        "  A = np.array([[5]])\n",
        "  B = np.array([[0.33]]) \n",
        "  Q = np.array([[1]])\n",
        "  R = np.array([[1]])\n",
        "  (k, d) = [A.shape[0], B.shape[0]]\n",
        "  \n",
        "  #x0 = np.array([[random.randint(-1000, 1000)/1000 for i in range(d)]]).transpose()\n",
        "  x0 = np.array([[random.choice([4, 5, 6])]])\n",
        "  \n",
        "  K_star = optimal_lqr_gain(A, B, Q, R)\n",
        "  mean = np.array([0 for i in range(d)])\n",
        "  cov3 = 1*np.identity(d)\n",
        "  K = optimal_lqr_gain(A, B, Q, R) + np.random.randint(-1000,1000, size = (k, d))/1000\n",
        "  #K = optimal_lqr_gain(A, B, Q, R) + np.random.multivariate_normal(mean,cov3,k)/10\n",
        "  \n",
        "  print(\"Optimal gain:\\n\", optimal_lqr_gain(A, B, Q, R))\n",
        "  print(\"Initial gain:\\n\", K)\n",
        "  cost_gradient(K, 10, 0.01, 100, A, B, Q, R)\n",
        "  print(\"Calculated gain:\\n\", cost_gradient)\n",
        "  \n",
        "  #Calculate the difference between cost of optimal and initial state.\n",
        "  print(\"Cost of Optimal gain:\\n\", one_trajectory_sim(1000, x0, K_star, A, B, Q, R)[0])\n",
        "  print(\"Cost of Initial gain:\\n\", one_trajectory_sim(1000, x0, K, A, B, Q, R)[0])\n",
        "  \n",
        "  \n",
        "  [one_K, error] = onePoint_lqr_gain(K, K_star, A, B, Q, R,1000)\n",
        "  print(\"One point method:\", one_K)\n",
        "  \n",
        "  #Draw the learning picture\n",
        "  plt.plot([i+1 for i in range(len(error)- 1)], error[0: len(error)- 1])\n",
        "  plt.xlabel(\"# of iterations\")\n",
        "  plt.ylabel(\"error\")\n",
        "  plt.show()\n",
        "test_opt_gain()"
      ],
      "execution_count": 54,
      "outputs": [
        {
          "output_type": "stream",
          "text": [
            "Optimal gain:\n",
            " [[14.54819161]]\n",
            "Initial gain:\n",
            " [[15.10119161]]\n",
            "Calculated gain:\n",
            " <function cost_gradient at 0x7f627f015598>\n",
            "Cost of Optimal gain:\n",
            " [[5535.67863967]]\n",
            "Cost of Initial gain:\n",
            " [[5727.7293222]]\n",
            "# of excuted iterations: 0\n",
            "# of excuted iterations: 100\n",
            "# of excuted iterations: 200\n",
            "# of excuted iterations: 300\n",
            "# of excuted iterations: 400\n",
            "# of excuted iterations: 500\n",
            "# of excuted iterations: 600\n",
            "# of excuted iterations: 700\n",
            "# of excuted iterations: 800\n",
            "# of excuted iterations: 900\n",
            "One point method: [[15.01317632]]\n"
          ],
          "name": "stdout"
        },
        {
          "output_type": "display_data",
          "data": {
            "image/png": "[encoded data removed]",
            "text/plain": [
              "<Figure size 432x288 with 1 Axes>"
            ]
          },
          "metadata": {
            "tags": []
          }
        }
      ]
    }
  ]
}